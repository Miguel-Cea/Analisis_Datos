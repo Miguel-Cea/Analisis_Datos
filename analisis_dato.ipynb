{
 "cells": [
  {
   "cell_type": "code",
   "execution_count": null,
   "id": "06e38c01",
   "metadata": {},
   "outputs": [],
   "source": [
    "\n",
    "import pandas as pd\n",
    "\n",
    "# Cargar el archivo Excel\n",
    "file_path = 'DATOS_INFORME_GALA_CLEANED.xlsx'\n",
    "df = pd.read_excel(file_path, engine='openpyxl')\n",
    "df.head()\n"
   ]
  },
  {
   "cell_type": "code",
   "execution_count": null,
   "id": "2138e31d",
   "metadata": {},
   "outputs": [],
   "source": [
    "\n",
    "# Análisis exploratorio de datos\n",
    "df.info()\n",
    "df.describe()\n"
   ]
  },
  {
   "cell_type": "code",
   "execution_count": null,
   "id": "976e88ad",
   "metadata": {},
   "outputs": [],
   "source": [
    "\n",
    "# Limpieza de datos\n",
    "# Eliminar duplicados\n",
    "df.drop_duplicates(inplace=True)\n",
    "\n",
    "# Rellenar valores nulos con una cadena vacía\n",
    "df.fillna('', inplace=True)\n"
   ]
  },
  {
   "cell_type": "code",
   "execution_count": null,
   "id": "d3551784",
   "metadata": {},
   "outputs": [],
   "source": [
    "\n",
    "import matplotlib.pyplot as plt\n",
    "from wordcloud import WordCloud\n",
    "\n",
    "# Función para crear gráficos de barras\n",
    "def create_bar_chart(column_name):\n",
    "    plt.figure(figsize=(10, 6))\n",
    "    df[column_name].value_counts().plot(kind='bar')\n",
    "    plt.title(f'Distribución de {column_name}')\n",
    "    plt.xlabel(column_name)\n",
    "    plt.ylabel('Frecuencia')\n",
    "    plt.xticks(rotation=45, ha='right')\n",
    "    plt.show()\n",
    "\n",
    "# Función para crear nubes de palabras\n",
    "def create_word_cloud(column_name):\n",
    "    text = ' '.join(df[column_name].astype(str).tolist())\n",
    "    wordcloud = WordCloud(width=800, height=400, background_color='white').generate(text)\n",
    "    plt.figure(figsize=(10, 6))\n",
    "    plt.imshow(wordcloud, interpolation='bilinear')\n",
    "    plt.axis('off')\n",
    "    plt.title(f'Nube de palabras de {column_name}')\n",
    "    plt.show()\n"
   ]
  },
  {
   "cell_type": "code",
   "execution_count": null,
   "id": "f71b7298",
   "metadata": {},
   "outputs": [],
   "source": [
    "\n",
    "# Crear gráficos para las columnas relevantes\n",
    "columns_to_analyze = [\n",
    "    \"Sector\", \"Tipología\", \"Público/Privado\", \"Beneficiario\", \"Tipo de arquitectura\",\n",
    "    \"Arquitectura de referencia\", \"Conector\", \"MarketPlace\", \"Plataforma despliegue\",\n",
    "    \"Interoperabilidad Semántica\", \"Interoperabilidad técnica\", \"Interoperabilidad organizatia\",\n",
    "    \"Interoperabilidad legal \", \"Vocabularios\", \"Gestión participantes \", \"Observabilidad \", \"Gobernanza\"\n",
    "]\n",
    "\n",
    "for column in columns_to_analyze:\n",
    "    create_bar_chart(column)\n",
    "    create_word_cloud(column)\n"
   ]
  }
 ],
 "metadata": {},
 "nbformat": 4,
 "nbformat_minor": 5
}
